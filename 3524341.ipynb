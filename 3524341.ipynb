{
 "cells": [
  {
   "cell_type": "markdown",
   "metadata": {
    "collapsed": false
   },
   "source": [
    "# 基于PaddleClas的鸟类图片分类"
   ]
  },
  {
   "cell_type": "markdown",
   "metadata": {
    "collapsed": false
   },
   "source": [
    "## 一、项目背景介绍、\n",
    "* 本人对无穷小亮的科普视频很感兴趣，博主通过自身知识对各类动植物进行讲解的形式让人耳目一新。在各类动植物中，我比较喜欢鸟类，观看学习之余，我想到可以通过飞桨平台的工具实现对不同鸟类的图片进行信息识别。这样一个方便使用的小项目，既可以简化信息搜索的难度，还可以助力知识的普及。\n"
   ]
  },
  {
   "cell_type": "markdown",
   "metadata": {
    "collapsed": false
   },
   "source": [
    "## 二、数据介绍\n",
    "\n",
    "* （[275 种鸟类](https://aistudio.baidu.com/aistudio/datasetdetail/99214/0)）数据集\n",
    "\n",
    "* 275 种鸟类的数据集。39364张训练图像，1375张测试图像（每个物种5张）和1375张验证图像（每个物种5张。所有图像均为jpg格式的224 X 224 X 3彩色图像。数据集包括训练集、测试集和验证集。每组包含 275 个子目录，每个鸟种一个。"
   ]
  },
  {
   "cell_type": "markdown",
   "metadata": {
    "collapsed": false
   },
   "source": [
    "（1）数据处理：准备数据以及安装环境依赖"
   ]
  },
  {
   "cell_type": "code",
   "execution_count": 1,
   "metadata": {
    "collapsed": false
   },
   "outputs": [],
   "source": [
    "!unzip -oq /home/aistudio/data/data99214/Bird_Dataset.zip -d work/"
   ]
  },
  {
   "cell_type": "code",
   "execution_count": 4,
   "metadata": {
    "collapsed": false
   },
   "outputs": [
    {
     "name": "stdout",
     "output_type": "stream",
     "text": [
      "[Errno 2] No such file or directory: 'work/'\n",
      "/home/aistudio/work/PaddleClas\n",
      "Cloning into 'PaddleClas'...\n",
      "remote: Enumerating objects: 25293, done.\u001b[K\n",
      "remote: Counting objects: 100% (5176/5176), done.\u001b[K\n",
      "remote: Compressing objects: 100% (1840/1840), done.\u001b[K\n",
      "remote: Total 25293 (delta 3636), reused 4691 (delta 3319), pack-reused 20117\u001b[K\n",
      "Receiving objects: 100% (25293/25293), 155.60 MiB | 9.90 MiB/s, done.\n",
      "Resolving deltas: 100% (17421/17421), done.\n",
      "Checking connectivity... done.\n",
      "/home/aistudio/work/PaddleClas/PaddleClas\n",
      "Looking in indexes: https://mirror.baidu.com/pypi/simple\n",
      "Requirement already satisfied: prettytable in /opt/conda/envs/python35-paddle120-env/lib/python3.7/site-packages (from -r requirements.txt (line 1)) (3.1.1)\n",
      "Requirement already satisfied: ujson in /opt/conda/envs/python35-paddle120-env/lib/python3.7/site-packages (from -r requirements.txt (line 2)) (5.1.0)\n",
      "Requirement already satisfied: opencv-python==4.4.0.46 in /opt/conda/envs/python35-paddle120-env/lib/python3.7/site-packages (from -r requirements.txt (line 3)) (4.4.0.46)\n",
      "Requirement already satisfied: pillow in /opt/conda/envs/python35-paddle120-env/lib/python3.7/site-packages (from -r requirements.txt (line 4)) (9.0.1)\n",
      "Requirement already satisfied: tqdm in /opt/conda/envs/python35-paddle120-env/lib/python3.7/site-packages (from -r requirements.txt (line 5)) (4.62.3)\n",
      "Requirement already satisfied: PyYAML in /opt/conda/envs/python35-paddle120-env/lib/python3.7/site-packages (from -r requirements.txt (line 6)) (6.0)\n",
      "Requirement already satisfied: visualdl>=2.2.0 in /opt/conda/envs/python35-paddle120-env/lib/python3.7/site-packages (from -r requirements.txt (line 7)) (2.2.3)\n",
      "Requirement already satisfied: scipy in /opt/conda/envs/python35-paddle120-env/lib/python3.7/site-packages (from -r requirements.txt (line 8)) (1.7.3)\n",
      "Requirement already satisfied: scikit-learn==0.23.2 in /opt/conda/envs/python35-paddle120-env/lib/python3.7/site-packages (from -r requirements.txt (line 9)) (0.23.2)\n",
      "Requirement already satisfied: gast==0.3.3 in /opt/conda/envs/python35-paddle120-env/lib/python3.7/site-packages (from -r requirements.txt (line 10)) (0.3.3)\n",
      "Requirement already satisfied: faiss-cpu==1.7.1.post2 in /opt/conda/envs/python35-paddle120-env/lib/python3.7/site-packages (from -r requirements.txt (line 11)) (1.7.1.post2)\n",
      "Requirement already satisfied: numpy>=1.14.5 in /opt/conda/envs/python35-paddle120-env/lib/python3.7/site-packages (from opencv-python==4.4.0.46->-r requirements.txt (line 3)) (1.19.5)\n",
      "Requirement already satisfied: joblib>=0.11 in /opt/conda/envs/python35-paddle120-env/lib/python3.7/site-packages (from scikit-learn==0.23.2->-r requirements.txt (line 9)) (0.14.1)\n",
      "Requirement already satisfied: threadpoolctl>=2.0.0 in /opt/conda/envs/python35-paddle120-env/lib/python3.7/site-packages (from scikit-learn==0.23.2->-r requirements.txt (line 9)) (3.1.0)\n",
      "Requirement already satisfied: wcwidth in /opt/conda/envs/python35-paddle120-env/lib/python3.7/site-packages (from prettytable->-r requirements.txt (line 1)) (0.1.7)\n",
      "Requirement already satisfied: importlib-metadata in /opt/conda/envs/python35-paddle120-env/lib/python3.7/site-packages (from prettytable->-r requirements.txt (line 1)) (4.2.0)\n",
      "Requirement already satisfied: bce-python-sdk in /opt/conda/envs/python35-paddle120-env/lib/python3.7/site-packages (from visualdl>=2.2.0->-r requirements.txt (line 7)) (0.8.53)\n",
      "Requirement already satisfied: flask>=1.1.1 in /opt/conda/envs/python35-paddle120-env/lib/python3.7/site-packages (from visualdl>=2.2.0->-r requirements.txt (line 7)) (1.1.1)\n",
      "Requirement already satisfied: six>=1.14.0 in /opt/conda/envs/python35-paddle120-env/lib/python3.7/site-packages (from visualdl>=2.2.0->-r requirements.txt (line 7)) (1.16.0)\n",
      "Requirement already satisfied: matplotlib in /opt/conda/envs/python35-paddle120-env/lib/python3.7/site-packages (from visualdl>=2.2.0->-r requirements.txt (line 7)) (2.2.3)\n",
      "Requirement already satisfied: flake8>=3.7.9 in /opt/conda/envs/python35-paddle120-env/lib/python3.7/site-packages (from visualdl>=2.2.0->-r requirements.txt (line 7)) (4.0.1)\n",
      "Requirement already satisfied: protobuf>=3.11.0 in /opt/conda/envs/python35-paddle120-env/lib/python3.7/site-packages (from visualdl>=2.2.0->-r requirements.txt (line 7)) (3.14.0)\n",
      "Requirement already satisfied: requests in /opt/conda/envs/python35-paddle120-env/lib/python3.7/site-packages (from visualdl>=2.2.0->-r requirements.txt (line 7)) (2.24.0)\n",
      "Requirement already satisfied: pandas in /opt/conda/envs/python35-paddle120-env/lib/python3.7/site-packages (from visualdl>=2.2.0->-r requirements.txt (line 7)) (1.1.5)\n",
      "Requirement already satisfied: Flask-Babel>=1.0.0 in /opt/conda/envs/python35-paddle120-env/lib/python3.7/site-packages (from visualdl>=2.2.0->-r requirements.txt (line 7)) (1.0.0)\n",
      "Requirement already satisfied: pre-commit in /opt/conda/envs/python35-paddle120-env/lib/python3.7/site-packages (from visualdl>=2.2.0->-r requirements.txt (line 7)) (1.21.0)\n",
      "Requirement already satisfied: shellcheck-py in /opt/conda/envs/python35-paddle120-env/lib/python3.7/site-packages (from visualdl>=2.2.0->-r requirements.txt (line 7)) (0.7.1.1)\n",
      "Requirement already satisfied: pyflakes<2.5.0,>=2.4.0 in /opt/conda/envs/python35-paddle120-env/lib/python3.7/site-packages (from flake8>=3.7.9->visualdl>=2.2.0->-r requirements.txt (line 7)) (2.4.0)\n",
      "Requirement already satisfied: pycodestyle<2.9.0,>=2.8.0 in /opt/conda/envs/python35-paddle120-env/lib/python3.7/site-packages (from flake8>=3.7.9->visualdl>=2.2.0->-r requirements.txt (line 7)) (2.8.0)\n",
      "Requirement already satisfied: mccabe<0.7.0,>=0.6.0 in /opt/conda/envs/python35-paddle120-env/lib/python3.7/site-packages (from flake8>=3.7.9->visualdl>=2.2.0->-r requirements.txt (line 7)) (0.6.1)\n",
      "Requirement already satisfied: Jinja2>=2.10.1 in /opt/conda/envs/python35-paddle120-env/lib/python3.7/site-packages (from flask>=1.1.1->visualdl>=2.2.0->-r requirements.txt (line 7)) (2.11.0)\n",
      "Requirement already satisfied: itsdangerous>=0.24 in /opt/conda/envs/python35-paddle120-env/lib/python3.7/site-packages (from flask>=1.1.1->visualdl>=2.2.0->-r requirements.txt (line 7)) (1.1.0)\n",
      "Requirement already satisfied: Werkzeug>=0.15 in /opt/conda/envs/python35-paddle120-env/lib/python3.7/site-packages (from flask>=1.1.1->visualdl>=2.2.0->-r requirements.txt (line 7)) (0.16.0)\n",
      "Requirement already satisfied: click>=5.1 in /opt/conda/envs/python35-paddle120-env/lib/python3.7/site-packages (from flask>=1.1.1->visualdl>=2.2.0->-r requirements.txt (line 7)) (7.0)\n",
      "Requirement already satisfied: Babel>=2.3 in /opt/conda/envs/python35-paddle120-env/lib/python3.7/site-packages (from Flask-Babel>=1.0.0->visualdl>=2.2.0->-r requirements.txt (line 7)) (2.8.0)\n",
      "Requirement already satisfied: pytz in /opt/conda/envs/python35-paddle120-env/lib/python3.7/site-packages (from Flask-Babel>=1.0.0->visualdl>=2.2.0->-r requirements.txt (line 7)) (2019.3)\n",
      "Requirement already satisfied: typing-extensions>=3.6.4 in /opt/conda/envs/python35-paddle120-env/lib/python3.7/site-packages (from importlib-metadata->prettytable->-r requirements.txt (line 1)) (4.0.1)\n",
      "Requirement already satisfied: zipp>=0.5 in /opt/conda/envs/python35-paddle120-env/lib/python3.7/site-packages (from importlib-metadata->prettytable->-r requirements.txt (line 1)) (3.7.0)\n",
      "Requirement already satisfied: pycryptodome>=3.8.0 in /opt/conda/envs/python35-paddle120-env/lib/python3.7/site-packages (from bce-python-sdk->visualdl>=2.2.0->-r requirements.txt (line 7)) (3.9.9)\n",
      "Requirement already satisfied: future>=0.6.0 in /opt/conda/envs/python35-paddle120-env/lib/python3.7/site-packages (from bce-python-sdk->visualdl>=2.2.0->-r requirements.txt (line 7)) (0.18.0)\n",
      "Requirement already satisfied: pyparsing!=2.0.4,!=2.1.2,!=2.1.6,>=2.0.1 in /opt/conda/envs/python35-paddle120-env/lib/python3.7/site-packages (from matplotlib->visualdl>=2.2.0->-r requirements.txt (line 7)) (3.0.7)\n",
      "Requirement already satisfied: python-dateutil>=2.1 in /opt/conda/envs/python35-paddle120-env/lib/python3.7/site-packages (from matplotlib->visualdl>=2.2.0->-r requirements.txt (line 7)) (2.8.2)\n",
      "Requirement already satisfied: kiwisolver>=1.0.1 in /opt/conda/envs/python35-paddle120-env/lib/python3.7/site-packages (from matplotlib->visualdl>=2.2.0->-r requirements.txt (line 7)) (1.1.0)\n",
      "Requirement already satisfied: cycler>=0.10 in /opt/conda/envs/python35-paddle120-env/lib/python3.7/site-packages (from matplotlib->visualdl>=2.2.0->-r requirements.txt (line 7)) (0.10.0)\n",
      "Requirement already satisfied: cfgv>=2.0.0 in /opt/conda/envs/python35-paddle120-env/lib/python3.7/site-packages (from pre-commit->visualdl>=2.2.0->-r requirements.txt (line 7)) (2.0.1)\n",
      "Requirement already satisfied: identify>=1.0.0 in /opt/conda/envs/python35-paddle120-env/lib/python3.7/site-packages (from pre-commit->visualdl>=2.2.0->-r requirements.txt (line 7)) (1.4.10)\n",
      "Requirement already satisfied: virtualenv>=15.2 in /opt/conda/envs/python35-paddle120-env/lib/python3.7/site-packages (from pre-commit->visualdl>=2.2.0->-r requirements.txt (line 7)) (16.7.9)\n",
      "Requirement already satisfied: aspy.yaml in /opt/conda/envs/python35-paddle120-env/lib/python3.7/site-packages (from pre-commit->visualdl>=2.2.0->-r requirements.txt (line 7)) (1.3.0)\n",
      "Requirement already satisfied: toml in /opt/conda/envs/python35-paddle120-env/lib/python3.7/site-packages (from pre-commit->visualdl>=2.2.0->-r requirements.txt (line 7)) (0.10.0)\n",
      "Requirement already satisfied: nodeenv>=0.11.1 in /opt/conda/envs/python35-paddle120-env/lib/python3.7/site-packages (from pre-commit->visualdl>=2.2.0->-r requirements.txt (line 7)) (1.3.4)\n",
      "Requirement already satisfied: idna<3,>=2.5 in /opt/conda/envs/python35-paddle120-env/lib/python3.7/site-packages (from requests->visualdl>=2.2.0->-r requirements.txt (line 7)) (2.8)\n",
      "Requirement already satisfied: urllib3!=1.25.0,!=1.25.1,<1.26,>=1.21.1 in /opt/conda/envs/python35-paddle120-env/lib/python3.7/site-packages (from requests->visualdl>=2.2.0->-r requirements.txt (line 7)) (1.25.6)\n",
      "Requirement already satisfied: chardet<4,>=3.0.2 in /opt/conda/envs/python35-paddle120-env/lib/python3.7/site-packages (from requests->visualdl>=2.2.0->-r requirements.txt (line 7)) (3.0.4)\n",
      "Requirement already satisfied: certifi>=2017.4.17 in /opt/conda/envs/python35-paddle120-env/lib/python3.7/site-packages (from requests->visualdl>=2.2.0->-r requirements.txt (line 7)) (2019.9.11)\n",
      "Requirement already satisfied: MarkupSafe>=0.23 in /opt/conda/envs/python35-paddle120-env/lib/python3.7/site-packages (from Jinja2>=2.10.1->flask>=1.1.1->visualdl>=2.2.0->-r requirements.txt (line 7)) (2.0.1)\n",
      "Requirement already satisfied: setuptools in /opt/conda/envs/python35-paddle120-env/lib/python3.7/site-packages (from kiwisolver>=1.0.1->matplotlib->visualdl>=2.2.0->-r requirements.txt (line 7)) (41.4.0)\n",
      "\u001b[33mWARNING: You are using pip version 21.3.1; however, version 22.0.3 is available.\n",
      "You should consider upgrading via the '/opt/conda/envs/python35-paddle120-env/bin/python -m pip install --upgrade pip' command.\u001b[0m\n"
     ]
    }
   ],
   "source": [
    "%cd work/\r\n",
    "!git clone https://gitee.com/paddlepaddle/PaddleClas.git -b release/2.3\r\n",
    "%cd PaddleClas/\r\n",
    "!pip install --upgrade -r requirements.txt -i https://mirror.baidu.com/pypi/simple\r\n",
    "!export PYTHONPATH=path_to_PaddleClas:$PYTHONPATH"
   ]
  },
  {
   "cell_type": "code",
   "execution_count": 3,
   "metadata": {
    "collapsed": false
   },
   "outputs": [
    {
     "name": "stdout",
     "output_type": "stream",
     "text": [
      "Looking in indexes: https://pypi.tuna.tsinghua.edu.cn/simple\n",
      "Collecting daal\n",
      "  Downloading https://pypi.tuna.tsinghua.edu.cn/packages/84/19/6cd188fc67af7bd9a694cd463461b3c3504f1f67a09d833e28986b1ae8fd/daal-2021.5.3-py2.py3-none-manylinux1_x86_64.whl (284.3 MB)\n",
      "     |████████████████████████████████| 284.3 MB 1.5 kB/s            \n",
      "\u001b[?25hCollecting tbb==2021.*\n",
      "  Downloading https://pypi.tuna.tsinghua.edu.cn/packages/e5/d5/4db63b275cff517522e4e5c4653bfd02d03c39782cba560c780133551f90/tbb-2021.5.1-py2.py3-none-manylinux1_x86_64.whl (4.0 MB)\n",
      "     |████████████████████████████████| 4.0 MB 3.3 MB/s            \n",
      "\u001b[?25hInstalling collected packages: tbb, daal\n",
      "Successfully installed daal-2021.5.3 tbb-2021.5.1\n",
      "\u001b[33mWARNING: You are using pip version 21.3.1; however, version 22.0.3 is available.\n",
      "You should consider upgrading via the '/opt/conda/envs/python35-paddle120-env/bin/python -m pip install --upgrade pip' command.\u001b[0m\n"
     ]
    }
   ],
   "source": [
    "!pip install daal --upgrade --ignore-installed daal"
   ]
  },
  {
   "cell_type": "markdown",
   "metadata": {
    "collapsed": false
   },
   "source": [
    "训练文件：work/PaddleClas/tools/train.py\n",
    "\n",
    "训练配置文件：work/PaddleClas/ppcls/configs/quick_start/MobileNetV3_large_x1_0.yaml"
   ]
  },
  {
   "cell_type": "markdown",
   "metadata": {
    "collapsed": false
   },
   "source": [
    "（2）样本的可视化展示"
   ]
  },
  {
   "cell_type": "code",
   "execution_count": 1,
   "metadata": {
    "collapsed": false
   },
   "outputs": [
    {
     "data": {
      "text/plain": [
       "<matplotlib.image.AxesImage at 0x7f55a062a0d0>"
      ]
     },
     "execution_count": 1,
     "metadata": {},
     "output_type": "execute_result"
    },
    {
     "data": {
      "image/png": "[encoded data removed]",
      "text/plain": [
       "<Figure size 432x288 with 1 Axes>"
      ]
     },
     "metadata": {},
     "output_type": "display_data"
    }
   ],
   "source": [
    "import cv2\r\n",
    "import matplotlib.pyplot as plt\r\n",
    "%matplotlib inline\r\n",
    "image_path_list = ['work/birds/valid/AFRICAN FIREFINCH/1.jpg']\r\n",
    "plt.imshow(cv2.imread('work/birds/valid/AFRICAN FIREFINCH/1.jpg'))\r\n"
   ]
  },
  {
   "cell_type": "markdown",
   "metadata": {
    "collapsed": false
   },
   "source": [
    "（3）定义数据集"
   ]
  },
  {
   "cell_type": "markdown",
   "metadata": {
    "collapsed": false
   },
   "source": [
    "```\n",
    "# 读取label配置\n",
    "%cd ~\n",
    "import os\n",
    "import random\n",
    "import cv2\n",
    "import numpy as np\n",
    "import shutil\n",
    "#import json\n",
    "\n",
    "with open(\"work/birds/birds.csv\",'r') as load_f:\n",
    "    label_map = json.load(load_f)\n",
    "    print(label_map)\n",
    "\n",
    "```"
   ]
  },
  {
   "cell_type": "code",
   "execution_count": 3,
   "metadata": {
    "collapsed": false
   },
   "outputs": [],
   "source": [
    "import paddle\r\n",
    "import numpy as np\r\n",
    "import paddle.vision.transforms as T\r\n",
    "\r\n",
    "\r\n",
    "class MyImageNetDataset(paddle.io.Dataset):\r\n",
    "    def __init__(self,num_samples):\r\n",
    "        super(MyImageNetDataset, self).__init__()\r\n",
    "\r\n",
    "        self.num_samples = num_samples\r\n",
    "        self.transform = T.Compose([\r\n",
    "            T.Resize(size=(224, 224)),\r\n",
    "            T.ToTensor(),\r\n",
    "            T.Normalize(mean=127.5, std=127.5)])\r\n",
    "\r\n",
    "    def __getitem__(self, index):\r\n",
    "        image = np.random.randint(low=0, high=256, size=(512, 512, 3))\r\n",
    "        \r\n",
    "\r\n",
    "        image = image.astype('float32')\r\n",
    "        \r\n",
    "\r\n",
    "        image = self.transform(image)\r\n",
    "\r\n",
    "        return image\r\n",
    "\r\n",
    "    def __len__(self):\r\n",
    "        return self.num_samples"
   ]
  },
  {
   "cell_type": "code",
   "execution_count": 4,
   "metadata": {
    "collapsed": false
   },
   "outputs": [
    {
     "name": "stdout",
     "output_type": "stream",
     "text": [
      "work/birds/valid/BLUE GROUSE/ColorJitter_3.jpg\r"
     ]
    }
   ],
   "source": [
    "import numpy as np\r\n",
    "from PIL import Image\r\n",
    "from paddle.vision.transforms import ColorJitter\r\n",
    "\r\n",
    "\r\n",
    "transform = ColorJitter(0.4, 0.4, 0.4, 0.4)\r\n",
    "\r\n",
    "for (root , dirs, files ) in os.walk(\"work/birds\", topdown=False):\r\n",
    "    for name in files:\r\n",
    "        abs_name=os.path.join(root, name)\r\n",
    "        print(abs_name)\r\n",
    "        img = Image.open(abs_name)\r\n",
    "        rotated_img = transform(img)\r\n",
    "        print(rotated_img.size)\r\n",
    "        fake_name=os.path.join(root,\"ColorJitter_\"+ name)\r\n",
    "        print(fake_name)\r\n",
    "        rotated_img.save(fake_name)\r\n"
   ]
  },
  {
   "cell_type": "markdown",
   "metadata": {
    "collapsed": false
   },
   "source": [
    "（4）聚合数据"
   ]
  },
  {
   "cell_type": "code",
   "execution_count": 21,
   "metadata": {
    "collapsed": false
   },
   "outputs": [
    {
     "ename": "NameError",
     "evalue": "name 'label_map' is not defined",
     "output_type": "error",
     "traceback": [
      "\u001b[0;31m---------------------------------------------------------------------------\u001b[0m",
      "\u001b[0;31mNameError\u001b[0m                                 Traceback (most recent call last)",
      "\u001b[0;32m/tmp/ipykernel_97/1614609907.py\u001b[0m in \u001b[0;36m<module>\u001b[0;34m\u001b[0m\n\u001b[1;32m      4\u001b[0m \u001b[0mdata_list\u001b[0m \u001b[0;34m=\u001b[0m \u001b[0;34m[\u001b[0m\u001b[0;34m]\u001b[0m\u001b[0;34m\u001b[0m\u001b[0;34m\u001b[0m\u001b[0m\n\u001b[1;32m      5\u001b[0m \u001b[0;32mfor\u001b[0m \u001b[0mindex\u001b[0m \u001b[0;32min\u001b[0m \u001b[0mrange\u001b[0m\u001b[0;34m(\u001b[0m\u001b[0;36m20\u001b[0m\u001b[0;34m)\u001b[0m\u001b[0;34m:\u001b[0m\u001b[0;34m\u001b[0m\u001b[0;34m\u001b[0m\u001b[0m\n\u001b[0;32m----> 6\u001b[0;31m     \u001b[0mprint\u001b[0m\u001b[0;34m(\u001b[0m\u001b[0mindex\u001b[0m\u001b[0;34m,\u001b[0m\u001b[0mlabel_map\u001b[0m\u001b[0;34m[\u001b[0m\u001b[0mstr\u001b[0m\u001b[0;34m(\u001b[0m\u001b[0mindex\u001b[0m\u001b[0;34m)\u001b[0m\u001b[0;34m]\u001b[0m\u001b[0;34m)\u001b[0m\u001b[0;34m\u001b[0m\u001b[0;34m\u001b[0m\u001b[0m\n\u001b[0m\u001b[1;32m      7\u001b[0m     \u001b[0msub_folder\u001b[0m\u001b[0;34m=\u001b[0m\u001b[0mlabel_map\u001b[0m\u001b[0;34m[\u001b[0m\u001b[0mstr\u001b[0m\u001b[0;34m(\u001b[0m\u001b[0mindex\u001b[0m\u001b[0;34m)\u001b[0m\u001b[0;34m]\u001b[0m\u001b[0;34m\u001b[0m\u001b[0;34m\u001b[0m\u001b[0m\n\u001b[1;32m      8\u001b[0m     \u001b[0mabs_sub_folder\u001b[0m\u001b[0;34m=\u001b[0m\u001b[0mos\u001b[0m\u001b[0;34m.\u001b[0m\u001b[0mpath\u001b[0m\u001b[0;34m.\u001b[0m\u001b[0mjoin\u001b[0m\u001b[0;34m(\u001b[0m\u001b[0mdata_path\u001b[0m\u001b[0;34m,\u001b[0m \u001b[0mtrain_folder\u001b[0m\u001b[0;34m,\u001b[0m\u001b[0msub_folder\u001b[0m\u001b[0;34m)\u001b[0m\u001b[0;34m\u001b[0m\u001b[0;34m\u001b[0m\u001b[0m\n",
      "\u001b[0;31mNameError\u001b[0m: name 'label_map' is not defined"
     ]
    }
   ],
   "source": [
    "data_path = \"/home/work/birds\"\r\n",
    "train_folder = \"train\"\r\n",
    "test_folder = \"test\"\r\n",
    "data_list = []\r\n",
    "for index in range(20):\r\n",
    "    print(index,label_map[str(index)])\r\n",
    "    sub_folder=label_map[str(index)]\r\n",
    "    abs_sub_folder=os.path.join(data_path, train_folder,sub_folder)\r\n",
    "    sub_list=os.listdir(abs_sub_folder)\r\n",
    "    for sub_name in sub_list:\r\n",
    "        data_list.append(os.path.join(train_folder, sub_folder, sub_name) + ' ' + str(index) + '\\n')\r\n",
    "    print(\"Finished train_folder: {}\".format(sub_folder))\r\n",
    "print(\"Finished data_list length: {}\".format(len(data_list)))\r\n",
    "\r\n",
    "val_ratio = 0.1\r\n",
    "\r\n",
    "# save file\r\n",
    "def save_file(list, txt):\r\n",
    "    myfile=os.path.join('dataset',txt)\r\n",
    "    if os.path.exists(myfile):\r\n",
    "        os.remove(myfile)\r\n",
    "    with open(myfile, \"a\") as f:\r\n",
    "        f.writelines(list)\r\n",
    "\r\n",
    "\r\n",
    "random.shuffle(data_list)\r\n",
    "val_number = int(val_ratio * len(data_list))\r\n",
    "train_list = data_list[val_number:]\r\n",
    "val_list = data_list[0:val_number]\r\n",
    "print(\"full data size: {}   train_list size: {}   val_list size: {}\".format(len(data_list), len(data_list)-val_number,val_number))\r\n",
    "\r\n",
    "save_file(train_list,  'train_list.txt')\r\n",
    "save_file(val_list,  'test_list.txt')"
   ]
  },
  {
   "cell_type": "markdown",
   "metadata": {
    "collapsed": false
   },
   "source": [
    "## 三、模型介绍\n",
    "* PaddleCV飞桨视觉模型库，提供大量高精度、高推理速度、经过产业充分验证的智能视觉模型，覆盖各类任务场景。PaddleClas、PaddleDet和PaddleSeg等端到端的开发套件，打通模型开发、训练、压缩、部署全流程，并支持超大规模分类等进阶功能，为开发者提供高效顺畅的开发体验。\n",
    "\n",
    "![](https://ai-studio-static-online.cdn.bcebos.com/25542963e5284cf0a6be6f6fd3ca4845e1c3d578326c4a85a1338846bd51944a)\n"
   ]
  },
  {
   "cell_type": "markdown",
   "metadata": {
    "collapsed": false
   },
   "source": [
    "## 四、模型训练"
   ]
  },
  {
   "cell_type": "markdown",
   "metadata": {
    "collapsed": false
   },
   "source": [
    "（1）开始训练"
   ]
  },
  {
   "cell_type": "code",
   "execution_count": 5,
   "metadata": {
    "collapsed": false
   },
   "outputs": [
    {
     "name": "stdout",
     "output_type": "stream",
     "text": [
      "/home/aistudio/work/PaddleClas\n"
     ]
    }
   ],
   "source": [
    "%cd /home/aistudio/work/PaddleClas/"
   ]
  },
  {
   "cell_type": "markdown",
   "metadata": {
    "collapsed": false
   },
   "source": [
    "```\n",
    "# global configs\n",
    "Global:\n",
    "  checkpoints: null\n",
    "  pretrained_model: null\n",
    "  output_dir: ./output/\n",
    "  device: gpu\n",
    "  class_num: 275\n",
    "  save_interval: 10\n",
    "  eval_during_train: True\n",
    "  eval_interval: 10\n",
    "  epochs: 250\n",
    "  print_batch_step: 10\n",
    "  use_visualdl: False\n",
    "  # used for static mode and model export\n",
    "  image_shape: [3, 224, 224]\n",
    "  # save_inference_dir: ./inference\n",
    "\n",
    "# model architecture\n",
    "Arch:\n",
    "  name: ResNet50_vd\n",
    " \n",
    "# loss function config for traing/eval process\n",
    "Loss:\n",
    "  Train:\n",
    "    - CELoss:\n",
    "        weight: 1.0\n",
    "  Eval:\n",
    "    - CELoss:\n",
    "        weight: 1.0\n",
    "\n",
    "\n",
    "Optimizer:\n",
    "  name: Momentum\n",
    "  momentum: 0.9\n",
    "  lr:\n",
    "    name: Cosine\n",
    "    learning_rate: 0.0125\n",
    "    warmup_epoch: 5\n",
    "  regularizer:\n",
    "    name: 'L2'\n",
    "    coeff: 0.00001\n",
    "\n",
    "\n",
    "# data loader for train and eval\n",
    "DataLoader:\n",
    "  Train:\n",
    "    dataset:\n",
    "      name: ImageNetDataset\n",
    "      image_root: /home/aistudio/dataset/\n",
    "      cls_label_path: /home/aistudio/dataset/train_list.txt\n",
    "      transform_ops:\n",
    "        - DecodeImage:\n",
    "            to_rgb: True\n",
    "            channel_first: False\n",
    "        - RandCropImage:\n",
    "            size: 224\n",
    "        - RandFlipImage:\n",
    "            flip_code: 1\n",
    "        - RandAugment:\n",
    "            num_layers: 2\n",
    "            magnitude: 5\n",
    "        - NormalizeImage:\n",
    "            scale: 1.0/255.0\n",
    "            mean: [0.485, 0.456, 0.406]\n",
    "            std: [0.229, 0.224, 0.225]\n",
    "            order: ''\n",
    "\n",
    "    sampler:\n",
    "      name: DistributedBatchSampler\n",
    "      batch_size: 300\n",
    "      drop_last: False\n",
    "      shuffle: True\n",
    "    loader:\n",
    "      num_workers: 4\n",
    "      use_shared_memory: True\n",
    "\n",
    "  Eval:\n",
    "    dataset: \n",
    "      name: ImageNetDataset\n",
    "      image_root: /home/work/birds\n",
    "      cls_label_path: /home/work/birds/test.txt\n",
    "      transform_ops:\n",
    "        - DecodeImage:\n",
    "            to_rgb: True\n",
    "            channel_first: False\n",
    "        - ResizeImage:\n",
    "            resize_short: 256\n",
    "        - CropImage:\n",
    "            size: 224\n",
    "        - NormalizeImage:\n",
    "            scale: 1.0/255.0\n",
    "            mean: [0.485, 0.456, 0.406]\n",
    "            std: [0.229, 0.224, 0.225]\n",
    "            order: ''\n",
    "    sampler:\n",
    "      name: DistributedBatchSampler\n",
    "      batch_size: 128\n",
    "      drop_last: False\n",
    "      shuffle: False\n",
    "    loader:\n",
    "      num_workers: 4\n",
    "      use_shared_memory: True\n",
    "\n",
    "Metric:\n",
    "  Train:\n",
    "    - TopkAcc:\n",
    "        topk: [1, 5]\n",
    "  Eval:\n",
    "    - TopkAcc:\n",
    "        topk: [1, 5]\n",
    "```"
   ]
  },
  {
   "cell_type": "markdown",
   "metadata": {
    "collapsed": false
   },
   "source": [
    "（2）模型选取"
   ]
  },
  {
   "cell_type": "code",
   "execution_count": 7,
   "metadata": {
    "collapsed": false
   },
   "outputs": [
    {
     "name": "stdout",
     "output_type": "stream",
     "text": [
      "/opt/conda/envs/python35-paddle120-env/lib/python3.7/site-packages/setuptools/depends.py:2: DeprecationWarning: the imp module is deprecated in favour of importlib; see the module's documentation for alternative uses\n",
      "  import imp\n",
      "[2022/02/25 22:00:58] root INFO: \n",
      "===========================================================\n",
      "==        PaddleClas is powered by PaddlePaddle !        ==\n",
      "===========================================================\n",
      "==                                                       ==\n",
      "==   For more info please go to the following website.   ==\n",
      "==                                                       ==\n",
      "==       https://github.com/PaddlePaddle/PaddleClas      ==\n",
      "===========================================================\n",
      "\n",
      "[2022/02/25 22:00:58] root INFO: Arch : \n",
      "[2022/02/25 22:00:58] root INFO:     class_num : 102\n",
      "[2022/02/25 22:00:58] root INFO:     name : MobileNetV3_large_x1_0\n",
      "[2022/02/25 22:00:58] root INFO: DataLoader : \n",
      "[2022/02/25 22:00:58] root INFO:     Eval : \n",
      "[2022/02/25 22:00:58] root INFO:         dataset : \n",
      "[2022/02/25 22:00:58] root INFO:             cls_label_path : ./dataset/flowers102/val_list.txt\n",
      "[2022/02/25 22:00:58] root INFO:             image_root : ./dataset/flowers102/\n",
      "[2022/02/25 22:00:58] root INFO:             name : ImageNetDataset\n",
      "[2022/02/25 22:00:58] root INFO:             transform_ops : \n",
      "[2022/02/25 22:00:58] root INFO:                 DecodeImage : \n",
      "[2022/02/25 22:00:58] root INFO:                     channel_first : False\n",
      "[2022/02/25 22:00:58] root INFO:                     to_rgb : True\n",
      "[2022/02/25 22:00:58] root INFO:                 ResizeImage : \n",
      "[2022/02/25 22:00:58] root INFO:                     resize_short : 256\n",
      "[2022/02/25 22:00:58] root INFO:                 CropImage : \n",
      "[2022/02/25 22:00:58] root INFO:                     size : 224\n",
      "[2022/02/25 22:00:58] root INFO:                 NormalizeImage : \n",
      "[2022/02/25 22:00:58] root INFO:                     mean : [0.485, 0.456, 0.406]\n",
      "[2022/02/25 22:00:58] root INFO:                     order : \n",
      "[2022/02/25 22:00:58] root INFO:                     scale : 1.0/255.0\n",
      "[2022/02/25 22:00:58] root INFO:                     std : [0.229, 0.224, 0.225]\n",
      "[2022/02/25 22:00:58] root INFO:         loader : \n",
      "[2022/02/25 22:00:58] root INFO:             num_workers : 4\n",
      "[2022/02/25 22:00:58] root INFO:             use_shared_memory : True\n",
      "[2022/02/25 22:00:58] root INFO:         sampler : \n",
      "[2022/02/25 22:00:58] root INFO:             batch_size : 64\n",
      "[2022/02/25 22:00:58] root INFO:             drop_last : False\n",
      "[2022/02/25 22:00:58] root INFO:             name : DistributedBatchSampler\n",
      "[2022/02/25 22:00:58] root INFO:             shuffle : False\n",
      "[2022/02/25 22:00:58] root INFO:     Train : \n",
      "[2022/02/25 22:00:58] root INFO:         dataset : \n",
      "[2022/02/25 22:00:58] root INFO:             cls_label_path : ./dataset/flowers102/train_list.txt\n",
      "[2022/02/25 22:00:58] root INFO:             image_root : ./dataset/flowers102/\n",
      "[2022/02/25 22:00:58] root INFO:             name : ImageNetDataset\n",
      "[2022/02/25 22:00:58] root INFO:             transform_ops : \n",
      "[2022/02/25 22:00:58] root INFO:                 DecodeImage : \n",
      "[2022/02/25 22:00:58] root INFO:                     channel_first : False\n",
      "[2022/02/25 22:00:58] root INFO:                     to_rgb : True\n",
      "[2022/02/25 22:00:58] root INFO:                 RandCropImage : \n",
      "[2022/02/25 22:00:58] root INFO:                     size : 224\n",
      "[2022/02/25 22:00:58] root INFO:                 RandFlipImage : \n",
      "[2022/02/25 22:00:58] root INFO:                     flip_code : 1\n",
      "[2022/02/25 22:00:58] root INFO:                 NormalizeImage : \n",
      "[2022/02/25 22:00:58] root INFO:                     mean : [0.485, 0.456, 0.406]\n",
      "[2022/02/25 22:00:58] root INFO:                     order : \n",
      "[2022/02/25 22:00:58] root INFO:                     scale : 1.0/255.0\n",
      "[2022/02/25 22:00:58] root INFO:                     std : [0.229, 0.224, 0.225]\n",
      "[2022/02/25 22:00:58] root INFO:         loader : \n",
      "[2022/02/25 22:00:58] root INFO:             num_workers : 4\n",
      "[2022/02/25 22:00:58] root INFO:             use_shared_memory : True\n",
      "[2022/02/25 22:00:58] root INFO:         sampler : \n",
      "[2022/02/25 22:00:58] root INFO:             batch_size : 32\n",
      "[2022/02/25 22:00:58] root INFO:             drop_last : False\n",
      "[2022/02/25 22:00:58] root INFO:             name : DistributedBatchSampler\n",
      "[2022/02/25 22:00:58] root INFO:             shuffle : True\n",
      "[2022/02/25 22:00:58] root INFO: Global : \n",
      "[2022/02/25 22:00:58] root INFO:     checkpoints : None\n",
      "[2022/02/25 22:00:58] root INFO:     device : gpu\n",
      "[2022/02/25 22:00:58] root INFO:     epochs : 20\n",
      "[2022/02/25 22:00:58] root INFO:     eval_during_train : True\n",
      "[2022/02/25 22:00:58] root INFO:     eval_interval : 1\n",
      "[2022/02/25 22:00:58] root INFO:     image_shape : [3, 224, 224]\n",
      "[2022/02/25 22:00:58] root INFO:     output_dir : ./output/\n",
      "[2022/02/25 22:00:58] root INFO:     pretrained_model : None\n",
      "[2022/02/25 22:00:58] root INFO:     print_batch_step : 10\n",
      "[2022/02/25 22:00:58] root INFO:     save_inference_dir : ./inference\n",
      "[2022/02/25 22:00:58] root INFO:     save_interval : 1\n",
      "[2022/02/25 22:00:58] root INFO:     use_visualdl : False\n",
      "[2022/02/25 22:00:58] root INFO: Infer : \n",
      "[2022/02/25 22:00:58] root INFO:     PostProcess : \n",
      "[2022/02/25 22:00:58] root INFO:         class_id_map_file : ./dataset/flowers102/flowers102_label_list.txt\n",
      "[2022/02/25 22:00:58] root INFO:         name : Topk\n",
      "[2022/02/25 22:00:58] root INFO:         topk : 5\n",
      "[2022/02/25 22:00:58] root INFO:     batch_size : 10\n",
      "[2022/02/25 22:00:58] root INFO:     infer_imgs : docs/images/inference_deployment/whl_demo.jpg\n",
      "[2022/02/25 22:00:58] root INFO:     transforms : \n",
      "[2022/02/25 22:00:58] root INFO:         DecodeImage : \n",
      "[2022/02/25 22:00:58] root INFO:             channel_first : False\n",
      "[2022/02/25 22:00:58] root INFO:             to_rgb : True\n",
      "[2022/02/25 22:00:58] root INFO:         ResizeImage : \n",
      "[2022/02/25 22:00:58] root INFO:             resize_short : 256\n",
      "[2022/02/25 22:00:58] root INFO:         CropImage : \n",
      "[2022/02/25 22:00:58] root INFO:             size : 224\n",
      "[2022/02/25 22:00:58] root INFO:         NormalizeImage : \n",
      "[2022/02/25 22:00:58] root INFO:             mean : [0.485, 0.456, 0.406]\n",
      "[2022/02/25 22:00:58] root INFO:             order : \n",
      "[2022/02/25 22:00:58] root INFO:             scale : 1.0/255.0\n",
      "[2022/02/25 22:00:58] root INFO:             std : [0.229, 0.224, 0.225]\n",
      "[2022/02/25 22:00:58] root INFO:         ToCHWImage : None\n",
      "[2022/02/25 22:00:58] root INFO: Loss : \n",
      "[2022/02/25 22:00:58] root INFO:     Eval : \n",
      "[2022/02/25 22:00:58] root INFO:         CELoss : \n",
      "[2022/02/25 22:00:58] root INFO:             weight : 1.0\n",
      "[2022/02/25 22:00:58] root INFO:     Train : \n",
      "[2022/02/25 22:00:58] root INFO:         CELoss : \n",
      "[2022/02/25 22:00:58] root INFO:             weight : 1.0\n",
      "[2022/02/25 22:00:58] root INFO: Metric : \n",
      "[2022/02/25 22:00:58] root INFO:     Eval : \n",
      "[2022/02/25 22:00:58] root INFO:         TopkAcc : \n",
      "[2022/02/25 22:00:58] root INFO:             topk : [1, 5]\n",
      "[2022/02/25 22:00:58] root INFO:     Train : \n",
      "[2022/02/25 22:00:58] root INFO:         TopkAcc : \n",
      "[2022/02/25 22:00:58] root INFO:             topk : [1, 5]\n",
      "[2022/02/25 22:00:58] root INFO: Optimizer : \n",
      "[2022/02/25 22:00:58] root INFO:     lr : \n",
      "[2022/02/25 22:00:58] root INFO:         last_epoch : -1\n",
      "[2022/02/25 22:00:58] root INFO:         learning_rate : 0.00375\n",
      "[2022/02/25 22:00:58] root INFO:         name : Cosine\n",
      "[2022/02/25 22:00:58] root INFO:         warmup_epoch : 5\n",
      "[2022/02/25 22:00:58] root INFO:     momentum : 0.9\n",
      "[2022/02/25 22:00:58] root INFO:     name : Momentum\n",
      "[2022/02/25 22:00:58] root INFO:     regularizer : \n",
      "[2022/02/25 22:00:58] root INFO:         coeff : 1e-06\n",
      "[2022/02/25 22:00:58] root INFO:         name : L2\n",
      "[2022/02/25 22:00:58] root INFO: profiler_options : None\n",
      "Traceback (most recent call last):\n",
      "  File \"tools/train.py\", line 31, in <module>\n",
      "    engine = Engine(config, mode=\"train\")\n",
      "  File \"/home/aistudio/work/PaddleClas/ppcls/engine/engine.py\", line 96, in __init__\n",
      "    self.device = paddle.set_device(self.config[\"Global\"][\"device\"])\n",
      "  File \"/opt/conda/envs/python35-paddle120-env/lib/python3.7/site-packages/paddle/device/__init__.py\", line 204, in set_device\n",
      "    place = _convert_to_place(device)\n",
      "  File \"/opt/conda/envs/python35-paddle120-env/lib/python3.7/site-packages/paddle/device/__init__.py\", line 127, in _convert_to_place\n",
      "    raise ValueError(\"The device should not be 'gpu', \"\n",
      "ValueError: The device should not be 'gpu', since PaddlePaddle is not compiled with CUDA\n"
     ]
    }
   ],
   "source": [
    "!python  tools/train.py  -c  ppcls/configs/quick_start/MobileNetV3_large_x1_0.yaml"
   ]
  },
  {
   "cell_type": "markdown",
   "metadata": {
    "collapsed": false
   },
   "source": [
    "（7）验证"
   ]
  },
  {
   "cell_type": "code",
   "execution_count": 9,
   "metadata": {
    "collapsed": false
   },
   "outputs": [
    {
     "name": "stdout",
     "output_type": "stream",
     "text": [
      "/opt/conda/envs/python35-paddle120-env/lib/python3.7/site-packages/setuptools/depends.py:2: DeprecationWarning: the imp module is deprecated in favour of importlib; see the module's documentation for alternative uses\n",
      "  import imp\n",
      "usage: launch.py [-h] [--log_dir LOG_DIR] [--backend BACKEND]\n",
      "                 [--nproc_per_node NPROC_PER_NODE] [--run_mode RUN_MODE]\n",
      "                 [--ips IPS] [--servers SERVERS] [--workers WORKERS]\n",
      "                 [--heter_workers HETER_WORKERS]\n",
      "                 [--heter_devices HETER_DEVICES] [--worker_num WORKER_NUM]\n",
      "                 [--server_num SERVER_NUM]\n",
      "                 [--heter_worker_num HETER_WORKER_NUM] [--http_port HTTP_PORT]\n",
      "                 [--elastic_server ELASTIC_SERVER] [--job_id JOB_ID] [--np NP]\n",
      "                 [--scale SCALE] [--host HOST] [--force FORCE]\n",
      "                 training_script ...\n",
      "launch.py: error: unrecognized arguments: --gpus=0\n"
     ]
    }
   ],
   "source": [
    "!python -m paddle.distributed.launch \\\r\n",
    "    --gpus=\"0\" \\\r\n",
    "    tools/eval.py \\\r\n",
    "    -o ARCHITECTURE.name=\"EfficientNetB0\" \\\r\n",
    "    -o pretrained_model='./output/EfficientNetB0/best_model_train/ppcls'"
   ]
  },
  {
   "cell_type": "markdown",
   "metadata": {
    "collapsed": false
   },
   "source": [
    "（3）导出"
   ]
  },
  {
   "cell_type": "code",
   "execution_count": 10,
   "metadata": {
    "collapsed": false
   },
   "outputs": [
    {
     "name": "stdout",
     "output_type": "stream",
     "text": [
      "/opt/conda/envs/python35-paddle120-env/lib/python3.7/site-packages/setuptools/depends.py:2: DeprecationWarning: the imp module is deprecated in favour of importlib; see the module's documentation for alternative uses\n",
      "  import imp\n",
      "usage: generic-image-rec train script [-h] [-c CONFIG] [-o OVERRIDE]\n",
      "                                      [-p PROFILER_OPTIONS]\n",
      "generic-image-rec train script: error: unrecognized arguments: --model=EfficientNetB0 --pretrained_model=./output_finetune/EfficientNetB0/best_model_finetune/ppcls --output_path=./output_finetune/EfficientNetB0_infer\n"
     ]
    }
   ],
   "source": [
    "!python tools/export_model.py \\\r\n",
    "    --model='EfficientNetB0' \\\r\n",
    "    --pretrained_model='./output_finetune/EfficientNetB0/best_model_finetune/ppcls' \\\r\n",
    "    --output_path='./output_finetune/EfficientNetB0_infer'"
   ]
  },
  {
   "cell_type": "markdown",
   "metadata": {
    "collapsed": false
   },
   "source": [
    "（4）预测"
   ]
  },
  {
   "cell_type": "markdown",
   "metadata": {
    "collapsed": false
   },
   "source": [
    "```\n",
    "!python tools/infer/predict.py \\\n",
    "    -m=./output_finetune/EfficientNetB0_infer/model \\\n",
    "    -p=./output_finetune/EfficientNetB0_infer/params \\\n",
    "    -i=/home/aistudio/dataset/Butterfly20_test \\\n",
    "    # -i=./dataset/sgt/test/jpg \\\n",
    "    --use_gpu=1\n",
    "```"
   ]
  },
  {
   "cell_type": "markdown",
   "metadata": {
    "collapsed": false
   },
   "source": [
    "```\n",
    "# 读取,并转换为value，\n",
    "%cd /home/aistudio\n",
    "import fileinput\n",
    "\n",
    "value_list = []\n",
    "for line in fileinput.input(\"/home/aistudio/result_id.txt\"):\n",
    "    value_list.append(label_map[line.strip('\\n')])\n",
    "print(len(value_list))\n",
    "\n",
    "\n",
    "```"
   ]
  },
  {
   "cell_type": "markdown",
   "metadata": {
    "collapsed": false
   },
   "source": [
    "(5)结果处理"
   ]
  },
  {
   "cell_type": "markdown",
   "metadata": {
    "collapsed": false
   },
   "source": [
    "```\n",
    "# 保存\n",
    "savename = '/home/aistudio/result.txt'\n",
    "with open(savename, 'w', newline='') as f:\n",
    "    for line in value_list:\n",
    "        f.write(line+\"\\n\")\n",
    "```"
   ]
  },
  {
   "cell_type": "markdown",
   "metadata": {
    "collapsed": false
   },
   "source": [
    "## 五、总结\n",
    "通过系列课程让本人对整体的项目流程有了一定的了解，但因本人基础知识欠缺，对初见的各种变量名和指令还待了解，对异常报错的经验还比较少，仅能做到通过参考相关文档模拟项目流程，故本人还应以后持续学习，进一步完善本项目及自己的深度学习知识体系。\n"
   ]
  },
  {
   "cell_type": "markdown",
   "metadata": {
    "collapsed": false
   },
   "source": [
    "\n",
    "参考资料：\n",
    "       1.[30分钟玩转PaddleClas](https://paddleclas.readthedocs.io/zh_CN/latest/tutorials/quick_start.html)    2.[用PaddleClas解决蝴蝶分类](https://aistudio.baidu.com/aistudio/projectdetail/3525369?forkThirdPart=1)"
   ]
  }
 ],
 "metadata": {
  "kernelspec": {
   "display_name": "Python 3",
   "language": "python",
   "name": "py35-paddle1.2.0"
  },
  "language_info": {
   "codemirror_mode": {
    "name": "ipython",
    "version": 3
   },
   "file_extension": ".py",
   "mimetype": "text/x-python",
   "name": "python",
   "nbconvert_exporter": "python",
   "pygments_lexer": "ipython3",
   "version": "3.7.4"
  }
 },
 "nbformat": 4,
 "nbformat_minor": 1
}
